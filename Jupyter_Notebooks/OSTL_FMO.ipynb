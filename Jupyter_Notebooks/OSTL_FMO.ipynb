{
 "cells": [
  {
   "cell_type": "code",
   "execution_count": null,
   "id": "34e0f342",
   "metadata": {},
   "outputs": [],
   "source": [
    "import os\n",
    "import sys\n",
    "DIR = os.path.normpath(os.getcwd() + os.sep + os.pardir) + '/MLQD'\n",
    "path_to_file = str(DIR) + '/' + 'evolution.py'\n",
    "if os.path.isfile(path_to_file):\n",
    "    MLQD_DIR = DIR\n",
    "else:\n",
    "    MLQD_DIR = os.getcwd() + '/MLQD'\n",
    "if MLQD_DIR not in sys.path:\n",
    "    sys.path.append(MLQD_DIR)"
   ]
  },
  {
   "cell_type": "code",
   "execution_count": null,
   "id": "9cb42f04",
   "metadata": {},
   "outputs": [],
   "source": [
    "import numpy as np\n",
    "from evolution import quant_dyn\n",
    "import matplotlib.pyplot as plt"
   ]
  },
  {
   "cell_type": "markdown",
   "id": "d0fbee23",
   "metadata": {},
   "source": [
    "Here we consider the excitation energy transfer in FMO complex with the following Hamiltonian [1]\n",
    "\n",
    "\\begin{equation} \n",
    "\t\\boldsymbol{\\rm H} = \\boldsymbol{\\rm H}_{\\rm s} + \\boldsymbol{\\rm H}_{\\rm env} + \\boldsymbol{\\rm H}_{\\rm s-env} + \\boldsymbol{\\rm H}_{\\rm reorg} \\, , \n",
    "\\end{equation}\n",
    "with all Hamiltonian terms given below [2]\n",
    "\n",
    "\\begin{alignat}{2}\n",
    "\t&\\boldsymbol{\\rm H}_{\\rm s}= \\sum_{i}^{n} | i\\rangle \\epsilon_i \\langle i | + \\sum_{i,j=1, i\\neq j}^{n} \\rangle i | J_{ij} \\langle j | \\, , \\\\\n",
    "\t&\\boldsymbol{\\rm H}_{\\rm{env}}=\\sum_{i=1}^{n} \\sum_{k=1} \\left(\\frac{1}{2} \\boldsymbol{\\rm P}_{k, i}^{2}+\\frac{1}{2} \\omega_{k, i}^{2} \\boldsymbol{\\rm Q}_{k, i}^{2}\\right)\\, , \\\\\n",
    "\t& \\boldsymbol{\\rm H}_{\\rm s-env} =-\\sum_{i=1}^{n} \\sum_{k=1} | i \\rangle | c_{k,i} \\boldsymbol{\\rm Q}_{k, i} \\langle i | \\, , \\\\\n",
    "\t&\\boldsymbol{\\rm H}_{\\rm reorg}=\\sum_{i=1}^{n} | i \\rangle \\lambda_{i} \\langle i |  \\, ,\n",
    "\\end{alignat}\n",
    "\n",
    "where $\\boldsymbol{\\rm H}_{\\rm s}$, $\\boldsymbol{\\rm H}_{\\rm env}$, $\\boldsymbol{\\rm H}_{\\rm s-env}$ and $\\boldsymbol{\\rm H}_{\\rm reorg}$ denote system (BChl molecules) Hamiltonian, Hamiltonian of protein-environment, system-environment interaction Hamiltonian and the reorganization term, respectively. [2]  In above equation, $n$ is the number of sites (BChl molecules), $\\epsilon_i$ is the energy of the $i$th site and $J_{ij}$ is the inter-site coupling between sites $i$ and $j$. [2]  $\\boldsymbol{\\rm P}_{k, i}$, $\\boldsymbol{\\rm Q}_{k, i}$ and $\\omega_{k,i}$ are respectively conjugate momentum, coordinate and frequency of the environment mode $k$ associated with site $i$.  [2] In $\\boldsymbol{\\rm H}_{\\rm s-env}$, each site is connected to its own environment. [2]  The $c_{k,i}$ is the strength of coupling between site $i$ and mode $k$ of its environment. [2]  The reorganization term $\\boldsymbol{\\rm H}_{\\rm reorg}$ can be seen as a counter term that emerges from the interaction of the sites with the environment. [2]  It is added to stop further renormalization of the site energy $\\epsilon_i$ by the environment. [2] In the reorganization term $\\boldsymbol{\\rm H}_{\\rm reorg}$, $\\lambda_{i}$ is the reorganization energy corresponding to site $i$. [2]\n",
    "\n",
    "Refs.\n",
    "\n",
    "[1] The Journal of chemical physics 130 (23), 234111 (2009)\n",
    "\n",
    "[2] Nature Communications, 13, 1930 (2022)"
   ]
  },
  {
   "cell_type": "markdown",
   "id": "f4d01969",
   "metadata": {},
   "source": [
    "## Generation of data\n",
    "We consider the Drude–Lorentz spectral density \n",
    "$$ \tJ_{\\text {env}}(\\omega)=2 \\lambda \\frac{\\omega \\gamma}{\\omega^{2}+\\gamma^{2}},$$\n",
    "where $\\gamma$ and  $\\lambda$ denote the characteristic frequency and the reorganization energy, respectively.\n",
    "\n",
    "We define a parameter space $\\mathcal{D}$ with $\\lambda, \\gamma$, $T$ as its dimensions. The range of the dimensions are defined as: $\\lambda=\\{10$, $40$, $70$, $\\dots$, $520\\}$cm$^{-1}$, $\\gamma=\\{25$, $50$, $75$, $\\dots$, $500\\}$cm$^{-1}$, $T=\\{30$, $50$, $70$, $\\dots$, $510\\}$K. For each initial excitation case (on site-1,6 and 8), we generate 500 trajectories where the parameters were chosen based on farthest point sampling. We use the local thermalising Lindblad master equation (LTLME) to generate our data. You can also get HEOM trajectories from our QDDSET-1 data set.\n",
    "\n",
    "More are here \n",
    "\n",
    "[One-Shot Trajectory Learning of Open Quantum Systems Dynamics]( https://doi.org/10.1021/acs.jpclett.2c01242 \"Named link title\") \n",
    "\n",
    "[Predicting the future of excitation energy transfer in light-harvesting complex with artificial intelligence-based quantum dynamics](https://doi.org/10.1038/s41467-022-29621-w \"Named link title\") "
   ]
  },
  {
   "cell_type": "markdown",
   "id": "379b8b1a",
   "metadata": {},
   "source": [
    "## OSTL approach\n",
    "\n",
    "We prepare our training using parameters {$m$, $\\gamma$,  $\\lambda$,  $T$} where $m$ is a label for the initial excitation site. Here we use 0.1, 0.6 and 0.8 as a label to differentiate between site-1, site-6 and site-8 cases.\n",
    "\n",
    "The OSTL was trained and also predicts the whole dynamics in one shot in the following format $$\\boldsymbol{\\mathcal{Y}}(t_0), \\boldsymbol{\\mathcal{Y}}(t_1), \\dots, \\boldsymbol{\\mathcal{Y}}(t_{k-1}), \\boldsymbol{\\mathcal{Y}}(t_k),  \\boldsymbol{\\mathcal{Y}}(t_{k+1}), \\dots,  \\boldsymbol{\\mathcal{Y}}(t_M)$$ \n",
    "where \n",
    "$$\\boldsymbol{\\mathcal{Y}}(t) = \\mathcal{R}[\\rho_{11}(t)], \\mathcal{R}[\\rho_{12}(t)], \\mathcal{I}[\\rho_{12}(t)] \\dots, \\mathcal{R}[\\rho_{1N}(t)], \\mathcal{I}[\\rho_{1N}(t)], \\mathcal{R}[\\rho_{22}(t)], \\dots, \\mathcal{R}[\\rho_{2N}(t)], \\mathcal{I}[\\rho_{2N}(t)], \\mathcal{R}[\\rho_{33}(t)], \\dots, \\mathcal{R}[\\rho_{3N}(t)],\\mathcal{I}[\\rho_{3N}(t)],\\dots, \\dots,   \\mathcal{R}[\\rho_{NN}(t)]$$ \n",
    "\n",
    "where $N$ is the dimension of the reduced density matrix and $\\mathcal{R}$ and $\\mathcal{I}$ represent the real and imaginary parts of the off-diagonal terms, respectively.  \n",
    "\n",
    "More details are here \n",
    "\n",
    "[One-Shot Trajectory Learning of Open Quantum Systems Dynamics]( https://doi.org/10.1021/acs.jpclett.2c01242 \"Named link title\") \n"
   ]
  },
  {
   "cell_type": "markdown",
   "id": "297d6328",
   "metadata": {},
   "source": [
    "### 2. Training with preparation of training data and optimization of the CNN model\n",
    "\n",
    "We provide 20 trajectories in ```Jupyter_Notebooks/fmo_data``` for the sake of demonstration. Each trajectory is propagated with LTLME method upto ```t= 10 ps``` with time-step ```dt = 0.005```. "
   ]
  },
  {
   "cell_type": "code",
   "execution_count": null,
   "id": "2da60d16",
   "metadata": {},
   "outputs": [],
   "source": [
    "param={ \n",
    "        'n_states': 8,                  # int:  Number of states (SB) or sites (FMO), default 2 (SB) and 7 (FMO).\n",
    "        'QDmodel': 'createQDmodel',     # str: createQDmodel, the dafault option is useQDmodel\n",
    "        'QDmodelType': 'OSTL',          # str: Type of model. The default option is OSTL\n",
    "        'prepInput' : 'True',           # str: Prepare input files from the data (Default False)\n",
    "        'XfileIn': 'x_data',            # str: (Optional, npy file) The prepared X file will be saved at the provided file name \n",
    "        'YfileIn': 'y_data',            # str: (Optional, npy file) The prepared Y file will be saved at the provided file name \n",
    "        'gammaNorm': 500,               # float: Normalizer for Characteristic frequency. Default value is 500 in the case of FMO complex and 10 in the case of spin-boson model. The same values are also adopted in the provided trained models  \n",
    "        'lambNorm': 520,                # float: Normalizer for System-bath coupling strength. Default value is 520 (FMO complex) and 1 (SB model). The same values are also adopted in the provided trained models \n",
    "        'tempNorm': 500,                # float: Normalizer for temperature. Default value is 510 (FMO complex) and 1 (SB model). The same values are also adopted in the provided trained models.\n",
    "        'systemType': 'FMO',            # str: (Not optional) Need to define, wether your model is spin-boson (SB) or FMO complex (FMO) \n",
    "        'hyperParam': 'True',           # str: Default is False, we can pass True (optimize the hyperparameters) or False (don't optimize and run with the default structure)\n",
    "        'patience': 10,                 # int: Patience for early stopping in CNN training\n",
    "        'dataPath': 'fmo_data',         # str: Data path\n",
    "        'QDmodelOut': 'OSTL_FMO_model'  # str: (Optional), providing a name to save the model at\n",
    "        }\n",
    "\n",
    "quant_dyn(**param)"
   ]
  },
  {
   "cell_type": "markdown",
   "id": "e200785c",
   "metadata": {},
   "source": [
    "### 2. Training with preparation of training data but No optimization of the CNN model"
   ]
  },
  {
   "cell_type": "code",
   "execution_count": null,
   "id": "f6f1216d",
   "metadata": {},
   "outputs": [],
   "source": [
    "param={ \n",
    "        'n_states': 8,                  # int:  Number of states (SB) or sites (FMO), default 2 (SB) and 7 (FMO).\n",
    "        'QDmodel': 'createQDmodel',     # str: createQDmodel, the dafault option is useQDmodel\n",
    "        'QDmodelType': 'OSTL',          # str: Type of model. The default option is OSTL\n",
    "        'prepInput' : 'True',             # str: Prepare input files from the data (Default False)\n",
    "        'XfileIn': 'x_data',            # str: (Optional, npy file) The prepared X file will be saved at the provided file name \n",
    "        'YfileIn': 'y_data',            # str: (Optional, npy file) The prepared Y file will be saved at the provided file name \n",
    "        'gammaNorm': 500,               # float: Normalizer for Characteristic frequency. Default value is 500 in the case of FMO complex and 10 in the case of spin-boson model. The same values are also adopted in the provided trained models  \n",
    "        'lambNorm': 520,                # float: Normalizer for System-bath coupling strength. Default value is 520 (FMO complex) and 1 (SB model). The same values are also adopted in the provided trained models \n",
    "        'tempNorm': 500,                # float: Normalizer for temperature. Default value is 510 (FMO complex) and 1 (SB model). The same values are also adopted in the provided trained models.\n",
    "        'systemType': 'FMO',            # str: (Not optional) Need to define, wether your model is spin-boson (SB) or FMO complex (FMO) \n",
    "        'hyperParam': 'False',          # bool: Default is False, we can pass True (optimize the hyperparameters) or False (don't optimize and run with the default structure)\n",
    "        'patience': 10,                 # int: Patience for early stopping in CNN training\n",
    "        'dataPath': 'fmo_data',         # str: Data path\n",
    "        'QDmodelOut': 'OSTL_FMO_model'  # str: (Optional), providing a name to save the model at\n",
    "        }\n",
    "\n",
    "quant_dyn(**param)"
   ]
  },
  {
   "cell_type": "markdown",
   "id": "0c4dc44d",
   "metadata": {},
   "source": [
    "### 3. Training without preparation of training data and optimization of the CNN model. \n",
    "\n",
    "In this example, we will not prepare the training data and will directly pass the X and Y files as were prepared in demonstration 1 or 2 "
   ]
  },
  {
   "cell_type": "code",
   "execution_count": null,
   "id": "8d813a6f",
   "metadata": {},
   "outputs": [],
   "source": [
    "param={ \n",
    "        'n_states': 8,                  # int:  Number of states (SB) or sites (FMO), default 2 (SB) and 7 (FMO).\n",
    "        'QDmodel': 'createQDmodel',     # str: createQDmodel, the dafault option is useQDmodel\n",
    "        'QDmodelType': 'OSTL',          # str: Type of model. The default option is OSTL\n",
    "        'systemType': 'FMO',            # str: (Not optional) Need to define, wether your model is spin-boson (SB) or FMO complex (FMO) \n",
    "        'XfileIn': 'x_data',            # str: (Not Optional, npy file) The X file \n",
    "        'YfileIn': 'y_data',            # str: (Not Optional, npy file) The X file \n",
    "        'systemType': 'FMO',            # str: (Not optional) Need to define, wether your model is spin-boson (SB) or FMO complex (FMO) \n",
    "        'hyperParam': 'False',          # bool: Default is False, we can pass True (optimize the hyperparameters) or False (don't optimize and run with the default structure)\n",
    "        'patience': 10,                 # int: Patience for early stopping in CNN training\n",
    "        'QDmodelOut': 'OSTL_FMO_model'  # str: (Optional), providing a name to save the model at\n",
    "        }\n",
    "quant_dyn(**param)"
   ]
  },
  {
   "cell_type": "markdown",
   "id": "2e7c78c5",
   "metadata": {},
   "source": [
    "# Propagating dynamics with the trained OSTL model \n",
    "\n",
    "Here we will demonstrate how to propagate dynamics with the model we trained above \"OSTL_FMO_model.hdf5\". We will provide the simulation parameters and the OSTL will predict the corresponding dynamics"
   ]
  },
  {
   "cell_type": "code",
   "execution_count": null,
   "id": "903fb67b",
   "metadata": {},
   "outputs": [],
   "source": [
    "param={ \n",
    "        'initState': 1,                         # int:  Initial state with Initial Excitation case (only required in FMO complex case, Default is '1')\n",
    "        'n_states': 8,                          # int:  Number of states (SB) or sites (FMO). Default is 2 (SB) and 7 (FMO).\n",
    "        'time': 10,                             # float: Propagation time in picoseconds (ps)  for FMO complex and in (a.u.) for spin-boson model\n",
    "        'time_step': 0.005,                     # float: Time-step for time-propagation (OSTL does not use it, however will use it in the output file). Default values are 0.1 (KRR SB), 0.05 (AIQD and OSTL for spin-boson model) and 0.005ps for FMO complex\n",
    "        'gamma': 100,                           # float: Characteristic frequency (in cm^-1 for the provided trained FMO models, in (a.u.) for spin-boson model)\n",
    "        'lamb': 220,                             # float: System-bath coupling strength  (in cm^-1 for the provided trained FMO models, in (a.u.) for spin-boson model)\n",
    "        'temp': 190,                            # float: temperature in K  (in Kilven for the provided trained FMO models, in (a.u.) for spin-boson model)\n",
    "        'gammaNorm': 500,                       # float: Normalizer for Characteristic frequency. Default value is 500 in the case of FMO complex and 10 in the case of spin-boson model. The same values are also adopted in the provided trained models  \n",
    "        'lambNorm': 520,                        # float: Normalizer for System-bath coupling strength. Default value is 520 (FMO complex) and 1 (SB model). The same values are also adopted in the provided trained models \n",
    "        'tempNorm': 500,                        # float: Normalizer for temperature. Default value is 510 (FMO complex) and 1 (SB model). The same values are also adopted in the provided trained models.\n",
    "        'QDmodel': 'useQDmodel',                # str: In MLQD, the dafault option is useQDmodel tells the MLQD to propagate dynamics with an existing trained model\n",
    "        'QDmodelType': 'OSTL',                  # str: The type of model we wanna use, here AIQD. The default option is OSTL\n",
    "        'systemType': 'FMO',                    # str: (Not optional)  Need to define, wether your model is spin-boson (SB) or FMO complex (FMO) \n",
    "        'QDmodelIn': 'OSTL_FMO_model.hdf5',     # str: (Not Optional for useQDmodel), provide the name of the trained ML model\n",
    "        'QDtrajOut': 'Qd_trajectory'            # str: (Optional), File name where the trajectory should be saved \n",
    "        }\n",
    "quant_dyn(**param)"
   ]
  },
  {
   "cell_type": "code",
   "execution_count": null,
   "id": "b03e5494",
   "metadata": {},
   "outputs": [],
   "source": [
    "ref_dyn = np.load('test_set/FMO/8_initial-1_gamma-100.0_lambda-220.0_temp-190.0.npy')\n",
    "pred_dyn = np.load('Qd_trajectory.npy')\n",
    "t1 = np.real(ref_dyn[:,0])\n",
    "t2 = pred_dyn[:,0]\n",
    "ref_site_1_pop = ref_dyn[:,1] # population of site-1\n",
    "pred_site_1_pop = pred_dyn[:,1] # population of site-1\n",
    "\n",
    "plt.rcParams['font.size'] = '20'\n",
    "plt.figure(figsize=(10,8))\n",
    "plt.plot(t2, pred_site_1_pop)\n",
    "plt.plot(t1/1000, ref_site_1_pop, '-.')\n",
    "plt.xlabel(r'$t \\, (ps)$')\n",
    "plt.ylabel(r'$\\rho_{11}$')\n",
    "plt.legend([\"Predicted (AIQD)\", 'Ref(LTLME)'])\n",
    "plt.title('Time evolution of the exciton \\n population in FMO complex')"
   ]
  },
  {
   "cell_type": "code",
   "execution_count": null,
   "id": "31d661e1",
   "metadata": {},
   "outputs": [],
   "source": []
  }
 ],
 "metadata": {
  "kernelspec": {
   "display_name": "Python 3",
   "language": "python",
   "name": "python3"
  },
  "language_info": {
   "codemirror_mode": {
    "name": "ipython",
    "version": 3
   },
   "file_extension": ".py",
   "mimetype": "text/x-python",
   "name": "python",
   "nbconvert_exporter": "python",
   "pygments_lexer": "ipython3",
   "version": "3.9.15"
  }
 },
 "nbformat": 4,
 "nbformat_minor": 5
}
