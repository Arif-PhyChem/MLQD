{
  "cells": [
    {
      "cell_type": "markdown",
      "id": "15aa8550",
      "metadata": {
        "id": "15aa8550"
      },
      "source": [
        "[![Open In Colab](https://colab.research.google.com/assets/colab-badge.svg)](\n",
        "https://colab.research.google.com/github/Arif-PhyChem/MLQD/blob/main/Jupyter_Notebooks/KRR_SB.ipynb)"
      ]
    },
    {
      "cell_type": "code",
      "execution_count": 1,
      "id": "de99b3da",
      "metadata": {
        "colab": {
          "base_uri": "https://localhost:8080/"
        },
        "id": "de99b3da",
        "outputId": "03be444b-1dd6-4af4-d6e5-da23e3bba297"
      },
      "outputs": [
        {
          "output_type": "stream",
          "name": "stdout",
          "text": [
            "Looking in indexes: https://pypi.org/simple, https://us-python.pkg.dev/colab-wheels/public/simple/\n",
            "Collecting mlqd\n",
            "  Downloading mlqd-1.1.1-py2.py3-none-any.whl (28 kB)\n",
            "Requirement already satisfied: tensorflow>=2.12.0 in /usr/local/lib/python3.10/dist-packages (from mlqd) (2.12.0)\n",
            "Requirement already satisfied: scikit-learn>=1.2.2 in /usr/local/lib/python3.10/dist-packages (from mlqd) (1.2.2)\n",
            "Requirement already satisfied: hyperopt>=0.2.7 in /usr/local/lib/python3.10/dist-packages (from mlqd) (0.2.7)\n",
            "Requirement already satisfied: matplotlib>=3.7.1 in /usr/local/lib/python3.10/dist-packages (from mlqd) (3.7.1)\n",
            "Collecting mlatom==2.3.3 (from mlqd)\n",
            "  Downloading MLatom-2.3.3-py3-none-any.whl (50.4 MB)\n",
            "\u001b[2K     \u001b[90m━━━━━━━━━━━━━━━━━━━━━━━━━━━━━━━━━━━━━━━━\u001b[0m \u001b[32m50.4/50.4 MB\u001b[0m \u001b[31m9.5 MB/s\u001b[0m eta \u001b[36m0:00:00\u001b[0m\n",
            "\u001b[?25hRequirement already satisfied: numpy in /usr/local/lib/python3.10/dist-packages (from mlatom==2.3.3->mlqd) (1.22.4)\n",
            "Requirement already satisfied: scipy in /usr/local/lib/python3.10/dist-packages (from hyperopt>=0.2.7->mlqd) (1.10.1)\n",
            "Requirement already satisfied: six in /usr/local/lib/python3.10/dist-packages (from hyperopt>=0.2.7->mlqd) (1.16.0)\n",
            "Requirement already satisfied: networkx>=2.2 in /usr/local/lib/python3.10/dist-packages (from hyperopt>=0.2.7->mlqd) (3.1)\n",
            "Requirement already satisfied: future in /usr/local/lib/python3.10/dist-packages (from hyperopt>=0.2.7->mlqd) (0.18.3)\n",
            "Requirement already satisfied: tqdm in /usr/local/lib/python3.10/dist-packages (from hyperopt>=0.2.7->mlqd) (4.65.0)\n",
            "Requirement already satisfied: cloudpickle in /usr/local/lib/python3.10/dist-packages (from hyperopt>=0.2.7->mlqd) (2.2.1)\n",
            "Requirement already satisfied: py4j in /usr/local/lib/python3.10/dist-packages (from hyperopt>=0.2.7->mlqd) (0.10.9.7)\n",
            "Requirement already satisfied: contourpy>=1.0.1 in /usr/local/lib/python3.10/dist-packages (from matplotlib>=3.7.1->mlqd) (1.0.7)\n",
            "Requirement already satisfied: cycler>=0.10 in /usr/local/lib/python3.10/dist-packages (from matplotlib>=3.7.1->mlqd) (0.11.0)\n",
            "Requirement already satisfied: fonttools>=4.22.0 in /usr/local/lib/python3.10/dist-packages (from matplotlib>=3.7.1->mlqd) (4.39.3)\n",
            "Requirement already satisfied: kiwisolver>=1.0.1 in /usr/local/lib/python3.10/dist-packages (from matplotlib>=3.7.1->mlqd) (1.4.4)\n",
            "Requirement already satisfied: packaging>=20.0 in /usr/local/lib/python3.10/dist-packages (from matplotlib>=3.7.1->mlqd) (23.1)\n",
            "Requirement already satisfied: pillow>=6.2.0 in /usr/local/lib/python3.10/dist-packages (from matplotlib>=3.7.1->mlqd) (8.4.0)\n",
            "Requirement already satisfied: pyparsing>=2.3.1 in /usr/local/lib/python3.10/dist-packages (from matplotlib>=3.7.1->mlqd) (3.0.9)\n",
            "Requirement already satisfied: python-dateutil>=2.7 in /usr/local/lib/python3.10/dist-packages (from matplotlib>=3.7.1->mlqd) (2.8.2)\n",
            "Requirement already satisfied: joblib>=1.1.1 in /usr/local/lib/python3.10/dist-packages (from scikit-learn>=1.2.2->mlqd) (1.2.0)\n",
            "Requirement already satisfied: threadpoolctl>=2.0.0 in /usr/local/lib/python3.10/dist-packages (from scikit-learn>=1.2.2->mlqd) (3.1.0)\n",
            "Requirement already satisfied: absl-py>=1.0.0 in /usr/local/lib/python3.10/dist-packages (from tensorflow>=2.12.0->mlqd) (1.4.0)\n",
            "Requirement already satisfied: astunparse>=1.6.0 in /usr/local/lib/python3.10/dist-packages (from tensorflow>=2.12.0->mlqd) (1.6.3)\n",
            "Requirement already satisfied: flatbuffers>=2.0 in /usr/local/lib/python3.10/dist-packages (from tensorflow>=2.12.0->mlqd) (23.3.3)\n",
            "Requirement already satisfied: gast<=0.4.0,>=0.2.1 in /usr/local/lib/python3.10/dist-packages (from tensorflow>=2.12.0->mlqd) (0.4.0)\n",
            "Requirement already satisfied: google-pasta>=0.1.1 in /usr/local/lib/python3.10/dist-packages (from tensorflow>=2.12.0->mlqd) (0.2.0)\n",
            "Requirement already satisfied: grpcio<2.0,>=1.24.3 in /usr/local/lib/python3.10/dist-packages (from tensorflow>=2.12.0->mlqd) (1.54.0)\n",
            "Requirement already satisfied: h5py>=2.9.0 in /usr/local/lib/python3.10/dist-packages (from tensorflow>=2.12.0->mlqd) (3.8.0)\n",
            "Requirement already satisfied: jax>=0.3.15 in /usr/local/lib/python3.10/dist-packages (from tensorflow>=2.12.0->mlqd) (0.4.10)\n",
            "Requirement already satisfied: keras<2.13,>=2.12.0 in /usr/local/lib/python3.10/dist-packages (from tensorflow>=2.12.0->mlqd) (2.12.0)\n",
            "Requirement already satisfied: libclang>=13.0.0 in /usr/local/lib/python3.10/dist-packages (from tensorflow>=2.12.0->mlqd) (16.0.0)\n",
            "Requirement already satisfied: opt-einsum>=2.3.2 in /usr/local/lib/python3.10/dist-packages (from tensorflow>=2.12.0->mlqd) (3.3.0)\n",
            "Requirement already satisfied: protobuf!=4.21.0,!=4.21.1,!=4.21.2,!=4.21.3,!=4.21.4,!=4.21.5,<5.0.0dev,>=3.20.3 in /usr/local/lib/python3.10/dist-packages (from tensorflow>=2.12.0->mlqd) (3.20.3)\n",
            "Requirement already satisfied: setuptools in /usr/local/lib/python3.10/dist-packages (from tensorflow>=2.12.0->mlqd) (67.7.2)\n",
            "Requirement already satisfied: tensorboard<2.13,>=2.12 in /usr/local/lib/python3.10/dist-packages (from tensorflow>=2.12.0->mlqd) (2.12.2)\n",
            "Requirement already satisfied: tensorflow-estimator<2.13,>=2.12.0 in /usr/local/lib/python3.10/dist-packages (from tensorflow>=2.12.0->mlqd) (2.12.0)\n",
            "Requirement already satisfied: termcolor>=1.1.0 in /usr/local/lib/python3.10/dist-packages (from tensorflow>=2.12.0->mlqd) (2.3.0)\n",
            "Requirement already satisfied: typing-extensions>=3.6.6 in /usr/local/lib/python3.10/dist-packages (from tensorflow>=2.12.0->mlqd) (4.5.0)\n",
            "Requirement already satisfied: wrapt<1.15,>=1.11.0 in /usr/local/lib/python3.10/dist-packages (from tensorflow>=2.12.0->mlqd) (1.14.1)\n",
            "Requirement already satisfied: tensorflow-io-gcs-filesystem>=0.23.1 in /usr/local/lib/python3.10/dist-packages (from tensorflow>=2.12.0->mlqd) (0.32.0)\n",
            "Requirement already satisfied: wheel<1.0,>=0.23.0 in /usr/local/lib/python3.10/dist-packages (from astunparse>=1.6.0->tensorflow>=2.12.0->mlqd) (0.40.0)\n",
            "Requirement already satisfied: ml-dtypes>=0.1.0 in /usr/local/lib/python3.10/dist-packages (from jax>=0.3.15->tensorflow>=2.12.0->mlqd) (0.1.0)\n",
            "Requirement already satisfied: google-auth<3,>=1.6.3 in /usr/local/lib/python3.10/dist-packages (from tensorboard<2.13,>=2.12->tensorflow>=2.12.0->mlqd) (2.17.3)\n",
            "Requirement already satisfied: google-auth-oauthlib<1.1,>=0.5 in /usr/local/lib/python3.10/dist-packages (from tensorboard<2.13,>=2.12->tensorflow>=2.12.0->mlqd) (1.0.0)\n",
            "Requirement already satisfied: markdown>=2.6.8 in /usr/local/lib/python3.10/dist-packages (from tensorboard<2.13,>=2.12->tensorflow>=2.12.0->mlqd) (3.4.3)\n",
            "Requirement already satisfied: requests<3,>=2.21.0 in /usr/local/lib/python3.10/dist-packages (from tensorboard<2.13,>=2.12->tensorflow>=2.12.0->mlqd) (2.27.1)\n",
            "Requirement already satisfied: tensorboard-data-server<0.8.0,>=0.7.0 in /usr/local/lib/python3.10/dist-packages (from tensorboard<2.13,>=2.12->tensorflow>=2.12.0->mlqd) (0.7.0)\n",
            "Requirement already satisfied: tensorboard-plugin-wit>=1.6.0 in /usr/local/lib/python3.10/dist-packages (from tensorboard<2.13,>=2.12->tensorflow>=2.12.0->mlqd) (1.8.1)\n",
            "Requirement already satisfied: werkzeug>=1.0.1 in /usr/local/lib/python3.10/dist-packages (from tensorboard<2.13,>=2.12->tensorflow>=2.12.0->mlqd) (2.3.0)\n",
            "Requirement already satisfied: cachetools<6.0,>=2.0.0 in /usr/local/lib/python3.10/dist-packages (from google-auth<3,>=1.6.3->tensorboard<2.13,>=2.12->tensorflow>=2.12.0->mlqd) (5.3.0)\n",
            "Requirement already satisfied: pyasn1-modules>=0.2.1 in /usr/local/lib/python3.10/dist-packages (from google-auth<3,>=1.6.3->tensorboard<2.13,>=2.12->tensorflow>=2.12.0->mlqd) (0.3.0)\n",
            "Requirement already satisfied: rsa<5,>=3.1.4 in /usr/local/lib/python3.10/dist-packages (from google-auth<3,>=1.6.3->tensorboard<2.13,>=2.12->tensorflow>=2.12.0->mlqd) (4.9)\n",
            "Requirement already satisfied: requests-oauthlib>=0.7.0 in /usr/local/lib/python3.10/dist-packages (from google-auth-oauthlib<1.1,>=0.5->tensorboard<2.13,>=2.12->tensorflow>=2.12.0->mlqd) (1.3.1)\n",
            "Requirement already satisfied: urllib3<1.27,>=1.21.1 in /usr/local/lib/python3.10/dist-packages (from requests<3,>=2.21.0->tensorboard<2.13,>=2.12->tensorflow>=2.12.0->mlqd) (1.26.15)\n",
            "Requirement already satisfied: certifi>=2017.4.17 in /usr/local/lib/python3.10/dist-packages (from requests<3,>=2.21.0->tensorboard<2.13,>=2.12->tensorflow>=2.12.0->mlqd) (2022.12.7)\n",
            "Requirement already satisfied: charset-normalizer~=2.0.0 in /usr/local/lib/python3.10/dist-packages (from requests<3,>=2.21.0->tensorboard<2.13,>=2.12->tensorflow>=2.12.0->mlqd) (2.0.12)\n",
            "Requirement already satisfied: idna<4,>=2.5 in /usr/local/lib/python3.10/dist-packages (from requests<3,>=2.21.0->tensorboard<2.13,>=2.12->tensorflow>=2.12.0->mlqd) (3.4)\n",
            "Requirement already satisfied: MarkupSafe>=2.1.1 in /usr/local/lib/python3.10/dist-packages (from werkzeug>=1.0.1->tensorboard<2.13,>=2.12->tensorflow>=2.12.0->mlqd) (2.1.2)\n",
            "Requirement already satisfied: pyasn1<0.6.0,>=0.4.6 in /usr/local/lib/python3.10/dist-packages (from pyasn1-modules>=0.2.1->google-auth<3,>=1.6.3->tensorboard<2.13,>=2.12->tensorflow>=2.12.0->mlqd) (0.5.0)\n",
            "Requirement already satisfied: oauthlib>=3.0.0 in /usr/local/lib/python3.10/dist-packages (from requests-oauthlib>=0.7.0->google-auth-oauthlib<1.1,>=0.5->tensorboard<2.13,>=2.12->tensorflow>=2.12.0->mlqd) (3.2.2)\n",
            "Installing collected packages: mlatom, mlqd\n",
            "Successfully installed mlatom-2.3.3 mlqd-1.1.1\n"
          ]
        }
      ],
      "source": [
        "#Install MLQD along with its dependencies\n",
        "!pip install mlqd "
      ]
    },
    {
      "cell_type": "code",
      "execution_count": 2,
      "id": "cf7fa741",
      "metadata": {
        "id": "cf7fa741"
      },
      "outputs": [],
      "source": [
        "import numpy as np\n",
        "from mlqd.evolution import quant_dyn\n",
        "import matplotlib.pyplot as plt"
      ]
    },
    {
      "cell_type": "markdown",
      "id": "9325d28a",
      "metadata": {
        "id": "9325d28a"
      },
      "source": [
        "We consider the two-state spin-boson model as was considered in our published study https://iopscience.iop.org/article/10.1088/1367-2630/ac3261\n",
        "\n",
        "\\begin{align} \\label{eq:sb}\n",
        "    \\boldsymbol{\\rm H} = \\frac{1}{2}\\epsilon \\boldsymbol{\\sigma}_{z}  + \\frac{1}{2}\\Delta \\boldsymbol{\\sigma}_{x} + \\sum_{k} \\omega_k \\boldsymbol{\\rm b}_k^\\dagger \\boldsymbol{\\rm b}_k + \\frac{1}{2} \\boldsymbol{\\sigma}_z \\boldsymbol{\\rm F},\n",
        "\\end{align}\n",
        "here $\\boldsymbol{\\sigma}_z$ and $\\boldsymbol{\\sigma}_x$ are the Pauli matrices, i.e., $\\boldsymbol{\\sigma}_z = | e\\rangle \\langle e| - | g \\rangle \\langle g|$, $\\boldsymbol{\\sigma}_x =  |e\\rangle \\langle g| + | g \\rangle \\langle  e|$. $\\epsilon$ and $\\Delta$ are the energy bias and tunneling matrix element, respectively. $\\omega_k$ is the frequency corresponds to $k$ bath mode and $\\boldsymbol{\\rm b}_k^\\dagger$ is the corresponding bath creation operator. $\\boldsymbol{\\rm F}$ is the interaction operator and can be expressed as $\\boldsymbol{\\rm F} = \\sum_k \\frac{c_k}{\\sqrt{2 \\omega_k}} (\\boldsymbol{\\rm b}_k + \\boldsymbol{\\rm b}_k^\\dagger)$, where $c_k$ denotes the coupling strength between system and $k$ bath mode. Initially, we consider that the system is in the excited state $|e\\rangle$ (by absorbing a photon of energy equal to the energy gap between the two states) and we let the system to be relaxed by exchanging its energy with the bath.  "
      ]
    },
    {
      "cell_type": "markdown",
      "id": "a63f3392",
      "metadata": {
        "id": "a63f3392"
      },
      "source": [
        "## Recursive dynamics \n",
        "\n",
        "In recursive dynamics, the future dynamics depends on the past dynamics \n",
        "\n",
        "$$ \\rho(t_n) = f(t_{n-1}) $$\n",
        "\n",
        "In some traditional quantum dynamics methods such as stochastic equation of motion (SEOM) approach, the noise in long-time dynamics deteriorates the accuracy and a good convergence needs propagation of a large number of trajectories. \n",
        "\n",
        "What we can do is to train a kernel ridge regression (KRR) model where if we provide a short time dynamics, the model should be able to predict the dynamics beyond it. We demonstarte this on the two-state spin-boson (SB) model. We consider the Drude–Lorentz spectral density \n",
        "$$\n",
        "    J_{\\text{b}}(\\omega)=2 \\lambda \\frac{\\omega \\gamma}{\\omega^{2}+\\gamma^{2}},\n",
        "$$\n",
        "with $\\gamma$ as characteristic frequency and $\\lambda$ as the reorganization energy.\n",
        "\n",
        "We use the Hierarchical equations of motion (HEOM) approach and generate data for all the possible combinations of the following parameters: $\\epsilon = \\{0, 1\\}$, the reorganization energy $\\lambda \\in \\{0.1$, $0.2$, $0.3$, $0.4$, $0.5$, $0.6$, $0.7$, $0.8$, $0.9$, $1.0 \\},$ the characteristic frequency $\\gamma \\in \\{1$, $2$, $3$, $4$, $5$, $6$, $7$, $8$, $9$, $10\\},$ inverse temperature $\\beta = 1/T \\in \\{0.1$, $0.25$, $0.5$, $0.75$, $1\\}$. It should be noted that all parameters are in atomic units (a.u.). \n",
        "\n",
        "We generate 500 trajectories for each case (symmetric and asymmetric $\\epsilon = \\{0, 1\\}$) and then train a KRR model on 400 trajectories (keeping 100 trajectories as a test set) for each case. You can grab the trajectories from our **QD3SET-1 database** https://doi.org/10.48550/arXiv.2301.12096. **However, here for the sake of demonstration, we provide 20 trajectories in the ```sb_data``` folder.**"
      ]
    },
    {
      "cell_type": "markdown",
      "id": "98f5bf3c",
      "metadata": {
        "id": "98f5bf3c"
      },
      "source": [
        "## Preparation of the training data\n",
        "\n",
        "Each trajectory is propagated for t= 20 (a.u.) with the time-step 0.05. For training, you can also use a larger time-step t = 0.1 to minize the cost of training. We take the intial dynamics of time-length $t_m$ from each trajectory and then use it as an input to predict the dynamics at the next time-step $t_{m+1}$. We include the dynamics at $t_{m+1}$ in the input short-time trajectory (dropping the value at $t_0$ to keep the length of the input the same) and then predict the dynamics at $t_{m+2}$. This process lasts till the last time-step.     "
      ]
    },
    {
      "cell_type": "markdown",
      "id": "524d40c8",
      "metadata": {
        "id": "524d40c8"
      },
      "source": [
        "## User-Manual \n",
        "\n",
        "call ```quant_dyn``` with out passing any parameters"
      ]
    },
    {
      "cell_type": "code",
      "execution_count": 3,
      "id": "348ab7b0",
      "metadata": {
        "colab": {
          "base_uri": "https://localhost:8080/"
        },
        "id": "348ab7b0",
        "outputId": "15cd5210-4eb4-402c-c04d-fa16ea578ef3"
      },
      "outputs": [
        {
          "output_type": "stream",
          "name": "stdout",
          "text": [
            "=================================================================\n",
            "MLQD is a python package developed for Machine Learning-based Quantum Dissipative Dynamics,\n",
            " \t\t\t\t  Version 1.1.1\n",
            "\t\t\t https://github.com/Arif-PhyChem/MLQD\n",
            "\n",
            " \t\t\t Copyright (c) 2023 Arif Ullah\n",
            "\n",
            "All rights reserved. This work is licensed under the Apache Software License 2.0\n",
            "\n",
            "\n",
            "The above copyright notice and this permission notice shall be included \n",
            "in all copies or substantial portions of the Software.\n",
            "\n",
            "\n",
            "The software is provided \"as is\" without warranty of any kind, express or implied, \n",
            "including but not limited to the warranties ofmerchantability, fitness for a particular \n",
            "purpose and noninfringement. In no event shall the authors or copyright holders be \n",
            "liable for any claim, damages or other liability, whether in an action of contract, tort or otherwise, \n",
            "arising from, out of or in connection with the software or the use or other dealings in the software.\n",
            "\n",
            "\n",
            "\t\t\t\t Cite as:\n",
            "\n",
            "1) Ullah A. and Dral P. O., New Journal of Physics, 2021, 23(11), 113019\n",
            "2) Ullah A. and Dral P. O., Nature Communications, 2022, 13(1), 1930\n",
            "3) Ullah A. and Dral P. O., Journal of Physical Chemistry Letters, 2022, 13(26), 6037\n",
            "4) Rodriguez L. E. H.; Ullah A.; Espinosa K. J. R.; Dral P. O. and A. A. Kananenka, Machine Learning: Science and Technology, 2022, 3(4), 045016\n",
            "5), Ullah A. and Dral P. O., 2023, arXiv.2303.01264\n",
            "\n",
            "Contributers List:\n",
            "\n",
            "1) Arif Ullah (main) \n",
            "2) Pavlo O. Dral\n",
            "\n",
            "=================================================================\n",
            "                            Manual                               \n",
            "=================================================================\n",
            "1]===> QDmodel (str): You can pass \"createQDmodel\" to train a QD model or \"useQDmodel\" to propagate dynamics with the already trained QD model. Default option is \"useQDmodel\"\n",
            "2]===> systemType (str): System type, you can pass \"SB\" for spin-boson model and \"FMO\" for FMO complex\n",
            "3]===> QDmodelOut (str): MLQD will save the trained QD model with this name. If you don not pass it, MLQD will pick a random name\n",
            "4]===> QDmodelIn (str): Pass the name of the trained QD model and MLQD will use it to predict dynamics\n",
            "5]===> QDtrajOut (str): MLQD will save the predicted trajectory with this name. If you do not pass a name, MLQD will pick a random name\n",
            "6]===> QDmodelType (str): Type of QD model. You can pass \"KRR\" for kernel ridge regression method, \"OSTL\" for OSTL approach and \"AIQD\" for AI-QD approach. The default option is OSTL\n",
            "7]===> prepInput (str): Choose wether you wanna prepare the input X and Y files from the data. You can pass \"True\" or \"False\". Default option is \"False\". For OSTL and AIQD, your data files should be in the same naming and file format as in out QD3SET-1 dataset\n",
            "8]===> time: (float): Propagation time in picoseconds (ps) for FMO complex and in atomic units (a.u.) for spin-boson model\n",
            "9]===> time_step (float): Time-step for time-propagation. Default values are 0.05 a.u. (for spin-boson model) and 5 fs for FMO complex\n",
            "10]===> hyperParam (str): Default option is \"False\". You can pass \"True\" (to optimize the hyperparameters) or \"False\" to not optimize the hyperparameters and run with the default structure\n",
            "11]===> XfileIn (str): The prepared X file will be saved at the provided file name, if not provided, MLQD will use the default name. In the case of KRR-based prediction of dynamics, this option provides the input short-time dynamics\n",
            "12]===> YfileIn (str): The prepared Y file will be saved at the provided file name. If not provided, MLQD will use the dafault name\n",
            "13]===> dataPath (str): MLQD will access data with this path and prepare the X and Y files\n",
            "\n",
            "------------------------------------------------------------------\n",
            "                Specific to AIQD and OSTL approach                \n",
            "------------------------------------------------------------------\n",
            "14]===> initState (int): Initial state with Initial Excitation. It is only required when propagating dynamics with OSTL or AIQD method for FMO complex. Default value is 1\n",
            "15]===> n_states (int): The number of states or sites. Default values are 2 for spin-boson model and 7 for FMO complex\n",
            "16]===> patience (int): Patience for early stopping in CNN training\n",
            "17]===> OptEpochs (int): The number of epochs for optimzation. Default value is 100\n",
            "18]===> TrEpochs (int): The number of epochs for training. Default value is 100\n",
            "19]===> max_evals (int): The number of maximum evaluations in hyperopt optimization. Default value is 100\n",
            "20]===> energyDiff (float): Energy difference between the two states in the case of spin-boson model. Default value is 1.0\n",
            "21]===> Delta (float): The tunneling matrix element in the case of spin-boson model. Default value is 1.0\n",
            "22]===> gamma (int): Characteristic frequency. Default values are 10 (spin-boson model) and 500 (FMO complex)\n",
            "23]===> lamb (int): System-bath coupling strength or the reorganization energy. Default values are 1 (spin-boson model) and 520 (FMO complex)\n",
            "24]===> temp (int): Temperature or inverse temperature. Default values are 1 (spin-boson model) and 510 (FMO complex)\n",
            "25]===> energyNorm (float): Normalizer for the energy difference between the states in the case of spin-boson model. Default value is 1.0\n",
            "26]===> DeltaNorm (float): Normalizer for the tunneling matrix element in the case of spin-boson model. Default value is 1.0\n",
            "27]===> gammaNorm (float): Normalizer for Characteristic frequency. Default values are 500 (FMO complex) and 10 (spin-boson model)\n",
            "28]===> lambNorm (float): Normalizer for System-bath coupling strength. Default values are 520 (FMO complex) and 1 (SB model)\n",
            "29]===> tempNorm (float): Normalizer for temperature or inverse temperature. Default values are 510 (FMO complex) and 1 (spin-boson model)\n",
            "\n",
            "------------------------------------------------------------------\n",
            "                     Specific to AIQD approach                    \n",
            "------------------------------------------------------------------\n",
            "30]===> numLogf (int): The number of Logistic functions for the normalization of time dimension. Default value is 1.0\n",
            "31]===> LogCa (float): Coefficient \"a\" in the logistic function, default value is 1.0\n",
            "32]===> LogCb (float): Coefficient \"b\" in the logistic function, default value is 15.0\n",
            "33]===> LogCc (float): Coefficient \"c\" in the logistic function, default value is -1.0\n",
            "34]===> LogCd (float): Coefficient \"d\" in the logistic function, default values is 1.0\n",
            "\n",
            "------------------------------------------------------------------\n",
            "                    Specific to KRR approach        \n",
            "------------------------------------------------------------------\n",
            "35]===> xlength (int): Length of the input short-time trajectory. It is the number of time steps in the data you pass with the \"dataCol\". Default value is 81\n",
            "36]===> krrSigma (float): If we pass \"False\" to hyperParam, then we need to provide a value for the hyperparameter Sigma in Gaussian kernel. Otherwise the model will run with the default value 4.0\n",
            "37]===> krrLamb (float): If we pass \"False\" to hyperParam, then we need to provide a value for the hyperparameter Lambda in KRR. Otherwise the model will run with the default value 0.00000001\n",
            "\n",
            "------------------------------------------------------------------\n",
            "                 Specific to KRR approach and Potting  \n",
            "------------------------------------------------------------------\n",
            "38]===> dataCol (int): The column number (counting starts from 0); As KRR is a single output model, and it is possible that you have many columns in your data files, using dataCol option, MLQD is able to grab only the mentioned column and train a KRR model on it. For plotting, the same option is used to grab the concerend column from the reference trajectory\n",
            "39]===> dtype (str): specify the data type. You can pass \"real\" or \"imag\". Default is \"real\". In KRR training, MLQD will extract the real or imaginary (imag) part of the column passed with \"dataCol\". For plotting, the same option is used the grab the concerned data type from the column of the reference trajectory\n",
            "\n",
            "------------------------------------------------------------------\n",
            "                        Specific to Plotting         \n",
            "------------------------------------------------------------------\n",
            "40]===> xlim (float): The xaxis limit while plotting\n",
            "41]===> pltNstates (int): The number of states to be plotted. Default option is to plot all states\n",
            "42]===> refTraj (str): MLQD will plot the predicted dynamics against this reference trajectory. If not provided, MLQD will ignore plotting\n",
            "=================================================================\n"
          ]
        },
        {
          "output_type": "execute_result",
          "data": {
            "text/plain": [
              "<mlqd.evolution.quant_dyn at 0x7f260bb4b940>"
            ]
          },
          "metadata": {},
          "execution_count": 3
        }
      ],
      "source": [
        "quant_dyn()"
      ]
    },
    {
      "cell_type": "markdown",
      "id": "df95fec4",
      "metadata": {
        "id": "df95fec4"
      },
      "source": [
        "# Training a KRR model  \n",
        "\n",
        "### 1. With preparation of training data and optimization of the KRR model. MLQD is using MLatom package in the backend\n",
        "\n",
        "Kernel ridge regression (KRR) model approximates a function $f( \\boldsymbol{u})$ which is defined as\n",
        "$$ \n",
        "    f(\\boldsymbol{u}) = \\sum_{i=1}^{N_{\\rm tr}} \\alpha_i k\\left(  \\boldsymbol{u}, \\boldsymbol{u}_i\\right),\n",
        "$$\n",
        "where $ \\boldsymbol{\\alpha} = \\{\\alpha_i\\}$ is a vector of regression coefficients $\\alpha_i$.\n",
        "\n",
        "We use the Gaussian kernel here \n",
        "\n",
        "$$\n",
        "    k\\left(\\boldsymbol{u}, \\boldsymbol{u}_{i}\\right)=\\exp \\left(-\\frac{\\left\\|\\boldsymbol{u}-\\boldsymbol{u}_{i}\\right\\|_{2}^{2}}{2 \\sigma^{2}}\\right) .\n",
        "$$\n",
        "To train a KRR model, we use MLatom package (http://mlatom.com/) in the backend.\n",
        "\n",
        "For the sake of demonstration, we provide 20 trajectories in the MLQD GitHub repo. The trajectories are in the ```Jupyter_Notebooks/sb_data``` folder. Here we take short trajectory of time-length $t_m = 4.0$ (a.u.) as an input-length. In MLQD, we pass it as ```'xlength': 81```."
      ]
    },
    {
      "cell_type": "code",
      "source": [
        "# Import the MLQD repo from GitHub\n",
        "!git clone https://github.com/Arif-PhyChem/MLQD.git\n",
        "!ls MLQD/Jupyter_Notebooks/sb_data"
      ],
      "metadata": {
        "colab": {
          "base_uri": "https://localhost:8080/"
        },
        "id": "Mf21WA9i0HXV",
        "outputId": "38f3451f-990f-4803-cb7e-1fe1154a69ee"
      },
      "id": "Mf21WA9i0HXV",
      "execution_count": null,
      "outputs": [
        {
          "output_type": "stream",
          "name": "stdout",
          "text": [
            "Cloning into 'MLQD'...\n",
            "remote: Enumerating objects: 894, done.\u001b[K\n",
            "remote: Counting objects: 100% (170/170), done.\u001b[K\n",
            "remote: Compressing objects: 100% (140/140), done.\u001b[K\n",
            "remote: Total 894 (delta 84), reused 55 (delta 30), pack-reused 724\u001b[K\n",
            "Receiving objects: 100% (894/894), 34.91 MiB | 21.52 MiB/s, done.\n",
            "Resolving deltas: 100% (376/376), done.\n",
            "2_epsilon-0.0_Delta-1.0_lambda-0.1_gamma-10.0_beta-0.1.npy\n",
            "2_epsilon-0.0_Delta-1.0_lambda-0.1_gamma-10.0_beta-0.25.npy\n",
            "2_epsilon-0.0_Delta-1.0_lambda-0.1_gamma-10.0_beta-0.5.npy\n",
            "2_epsilon-0.0_Delta-1.0_lambda-0.1_gamma-10.0_beta-0.75.npy\n",
            "2_epsilon-0.0_Delta-1.0_lambda-0.1_gamma-10.0_beta-1.0.npy\n",
            "2_epsilon-0.0_Delta-1.0_lambda-0.1_gamma-1.0_beta-0.1.npy\n",
            "2_epsilon-0.0_Delta-1.0_lambda-0.1_gamma-1.0_beta-0.25.npy\n",
            "2_epsilon-0.0_Delta-1.0_lambda-0.1_gamma-1.0_beta-0.5.npy\n",
            "2_epsilon-0.0_Delta-1.0_lambda-0.1_gamma-1.0_beta-0.75.npy\n",
            "2_epsilon-0.0_Delta-1.0_lambda-0.1_gamma-1.0_beta-1.0.npy\n",
            "2_epsilon-0.0_Delta-1.0_lambda-0.1_gamma-2.0_beta-0.1.npy\n",
            "2_epsilon-0.0_Delta-1.0_lambda-0.1_gamma-2.0_beta-0.25.npy\n",
            "2_epsilon-0.0_Delta-1.0_lambda-0.1_gamma-2.0_beta-0.5.npy\n",
            "2_epsilon-0.0_Delta-1.0_lambda-0.1_gamma-2.0_beta-0.75.npy\n",
            "2_epsilon-0.0_Delta-1.0_lambda-0.1_gamma-2.0_beta-1.0.npy\n",
            "2_epsilon-0.0_Delta-1.0_lambda-0.1_gamma-3.0_beta-0.1.npy\n",
            "2_epsilon-0.0_Delta-1.0_lambda-0.1_gamma-3.0_beta-0.25.npy\n",
            "2_epsilon-0.0_Delta-1.0_lambda-0.1_gamma-3.0_beta-0.5.npy\n",
            "2_epsilon-0.0_Delta-1.0_lambda-0.1_gamma-3.0_beta-0.75.npy\n",
            "2_epsilon-0.0_Delta-1.0_lambda-0.1_gamma-3.0_beta-1.0.npy\n"
          ]
        }
      ]
    },
    {
      "cell_type": "code",
      "execution_count": null,
      "id": "a3c13a77",
      "metadata": {
        "scrolled": true,
        "colab": {
          "base_uri": "https://localhost:8080/"
        },
        "id": "a3c13a77",
        "outputId": "fff00ee0-0199-4d21-8fc8-a96e76e6bb8a"
      },
      "outputs": [
        {
          "output_type": "stream",
          "name": "stdout",
          "text": [
            "=================================================================\n",
            "MLQD is a python package developed for Machine Learning-based Quantum Dissipative Dynamics,\n",
            " \t\t\t\t  Version 1.0.0\n",
            "\t\t\t https://github.com/Arif-PhyChem/MLQD\n",
            "\n",
            " \t\t\t Copyright (c) 2022 Arif Ullah\n",
            "\n",
            "All rights reserved. This work is licensed under the Attribution-NonCommercial-NoDerivatives 4.0\n",
            " \t International http://creativecommons.org/licenses/by-nc-nd/4.0/) license.\n",
            "\t\t\t See LICENSE.CC-BY-NC-ND-4.0\n",
            "\n",
            "\n",
            "The above copyright notice and this permission notice shall be included \n",
            "in all copies or substantial portions of the Software.\n",
            "\n",
            "\n",
            "The software is provided \"as is\" without warranty of any kind, express or implied, \n",
            "including but not limited to the warranties ofmerchantability, fitness for a particular \n",
            "purpose and noninfringement. In no event shall the authors or copyright holders be \n",
            "liable for any claim, damages or other liability, whether in an action of contract, tort or otherwise, \n",
            "arising from, out of or in connection with the software or the use or other dealings in the software.\n",
            "\n",
            "\n",
            "\t\t\t\t Cite as:\n",
            "\n",
            "1) Ullah A. and Dral P. O., New Journal of Physics, 2021, 23(11), 113019\n",
            "2) Ullah A. and Dral P. O., Nature Communications, 2022, 13(1), 1930\n",
            "3) Ullah A. and Dral P. O., Journal of Physical Chemistry Letters, 2022, 13(26), 6037\n",
            "4) Rodriguez L. E. H.; Ullah A.; Espinosa K. J. R.; Dral P. O. and A. A. Kananenka, Machine Learning: Science and Technology, 2022, 3(4), 045016\n",
            "\n",
            "Contributers List:\n",
            "\n",
            "1) Arif Ullah (main) \n",
            "2) Pavlo O. Dral\n",
            "=================================================================\n",
            "MLQD is started at 2023-04-08 08:13:39.620316\n",
            "=================================================================\n",
            "Setting \"systemType\" to SB\n",
            "MLQD is running with the option QDmodel =  createQDmodel\n",
            "Setting ML Model Type \"QDmodelType\" to KRR\n",
            "Running with the default number of states (SB); n_states: 2\n",
            "Setting option \"prepInput\" to True\n",
            "Model will be saved as KRR_SB_model\n",
            "Xfilein is x_train\n",
            "YfileIn is y_train\n",
            "You have chosen to optimize the hyper parameters of the model\n",
            "=================================================================\n",
            "Setting length of each row in input file \"xlength\" to 81\n",
            "=================================================================\n",
            "MLQD is grabbing column # 1 as was passed through \"dataCol\"\n",
            "data type \"dtype\" is  real\n",
            "=================================================================\n",
            "train_ml.KRR: preparing training data for KRR model\n",
            "=================================================================\n",
            "prep_input.KRR: Grabbing data from \" MLQD/Jupyter_Notebooks/sb_data \" directory\n",
            "prep_input.KRR: Number of trajectories = 20\n",
            "prep_input.KRR: The input and target values are saved as (txt files), i.e., x_train and y_train ,respectively\n",
            "=================================================================\n",
            "Train_ml.KRR: Training KRR model with Gaussian kernel using MLatom in the backend ......\n",
            "Train_ml.KRR: KRR model will be created and saved as \"KRR_SB_model\"\n",
            "Train_ml.KRR: Checking to see whether the input data files x_train and y_train exists\n",
            "=================================================================\n",
            "Train_ml.KRR: The output of MLatom can be found as \"krr_train_output\" file (please check to ensure that MLatom execution was successful)\n",
            "Train_ml.KRR: Time taken = 972.4994266033173 sec\n",
            "=================================================================\n",
            "=================================================================\n",
            "MLQD is ended at 2023-04-08 08:30:09.481753\n"
          ]
        },
        {
          "output_type": "execute_result",
          "data": {
            "text/plain": [
              "<mlqd.evolution.quant_dyn at 0x7fa09d0364f0>"
            ]
          },
          "metadata": {},
          "execution_count": 5
        }
      ],
      "source": [
        "param={ \n",
        "        'QDmodel': 'createQDmodel',     # str: create QD model. The dafault option is useQDmodel\n",
        "        'QDmodelType': 'KRR',           # str: The type of model. Here KRR and the default option is OSTL\n",
        "        'prepInput' : 'True',             # str: Prepare input files from the data (Default 'False')\n",
        "        'XfileIn': 'x_train',           # str: (Optional, txt file) The prepared X file will be saved at the provided file name \n",
        "        'YfileIn': 'y_train',           # str: (Optional, txt file) The prepared Y file will be saved at the provided file name\n",
        "        'dataPath': 'MLQD/Jupyter_Notebooks/sb_data' ,        # str: Data path\n",
        "        'dataCol': 1,                   # int: Default is 1, we may have multiple columns in our data files, mention a single column (KRR model works only for single output)\n",
        "        'dtype': 'real',                # str: Default is real. If the data in complex and if we pass 'real', it will prepare data only for real part and if we pass 'imag' is mentioned, only imaginary data will be considered. \n",
        "        'xlength': 81,                  # int:  Default is 81. Length of the short trajectory which will be used as an input\n",
        "        'hyperParam': 'True',           # str: Default is 'False', we can pass 'True' (optimize the hyperparameters) or 'False' (don't optimize and run with the default values)\n",
        "        'systemType': 'SB',             # str: (Not optional) Need to define, wether your model is spin-boson (SB) or FMO complex (FMO) \n",
        "        'QDmodelOut': 'KRR_SB_model'    # str: (Optional), providing a name to save the model at\n",
        "        }\n",
        "quant_dyn(**param)"
      ]
    },
    {
      "cell_type": "markdown",
      "id": "b58bd490",
      "metadata": {
        "id": "b58bd490"
      },
      "source": [
        "\n",
        "### 2. With preparation of training data but No optimization of the KRR model. \n"
      ]
    },
    {
      "cell_type": "code",
      "execution_count": null,
      "id": "fda2ca1f",
      "metadata": {
        "id": "fda2ca1f",
        "outputId": "1c0d8ff9-b000-43f3-a037-075b182546f3",
        "colab": {
          "base_uri": "https://localhost:8080/"
        }
      },
      "outputs": [
        {
          "output_type": "stream",
          "name": "stdout",
          "text": [
            "=================================================================\n",
            "MLQD is a python package developed for Machine Learning-based Quantum Dissipative Dynamics,\n",
            " \t\t\t\t  Version 1.0.0\n",
            "\t\t\t https://github.com/Arif-PhyChem/MLQD\n",
            "\n",
            " \t\t\t Copyright (c) 2022 Arif Ullah\n",
            "\n",
            "All rights reserved. This work is licensed under the Attribution-NonCommercial-NoDerivatives 4.0\n",
            " \t International http://creativecommons.org/licenses/by-nc-nd/4.0/) license.\n",
            "\t\t\t See LICENSE.CC-BY-NC-ND-4.0\n",
            "\n",
            "\n",
            "The above copyright notice and this permission notice shall be included \n",
            "in all copies or substantial portions of the Software.\n",
            "\n",
            "\n",
            "The software is provided \"as is\" without warranty of any kind, express or implied, \n",
            "including but not limited to the warranties ofmerchantability, fitness for a particular \n",
            "purpose and noninfringement. In no event shall the authors or copyright holders be \n",
            "liable for any claim, damages or other liability, whether in an action of contract, tort or otherwise, \n",
            "arising from, out of or in connection with the software or the use or other dealings in the software.\n",
            "\n",
            "\n",
            "\t\t\t\t Cite as:\n",
            "\n",
            "1) Ullah A. and Dral P. O., New Journal of Physics, 2021, 23(11), 113019\n",
            "2) Ullah A. and Dral P. O., Nature Communications, 2022, 13(1), 1930\n",
            "3) Ullah A. and Dral P. O., Journal of Physical Chemistry Letters, 2022, 13(26), 6037\n",
            "4) Rodriguez L. E. H.; Ullah A.; Espinosa K. J. R.; Dral P. O. and A. A. Kananenka, Machine Learning: Science and Technology, 2022, 3(4), 045016\n",
            "\n",
            "Contributers List:\n",
            "\n",
            "1) Arif Ullah (main) \n",
            "2) Pavlo O. Dral\n",
            "=================================================================\n",
            "MLQD is started at 2023-04-08 08:30:09.520949\n",
            "=================================================================\n",
            "Setting \"systemType\" to SB\n",
            "MLQD is running with the option QDmodel =  createQDmodel\n",
            "Setting ML Model Type \"QDmodelType\" to KRR\n",
            "Running with the default number of states (SB); n_states: 2\n",
            "Setting option \"prepInput\" to True\n",
            "Model will be saved as KRR_SB_model\n",
            "Xfilein is x_train\n",
            "YfileIn is y_train\n",
            "You have chosen not to optimize the hyper parameters of the model, otherwise you should pass \"True\" to hyperParam\n",
            "=================================================================\n",
            "Setting length of each row in input file \"xlength\" to 81\n",
            "Setting hyperparameter Sigma for Guassian kernel \"krrSigma\" to  4.0\n",
            "Setting hyperparameter Lambda for KRR \"krrLamb\" to  1e-08\n",
            "=================================================================\n",
            "MLQD is grabbing column # 1 as was passed through \"dataCol\"\n",
            "data type \"dtype\" is  real\n",
            "=================================================================\n",
            "train_ml.KRR: preparing training data for KRR model\n",
            "=================================================================\n",
            "prep_input.KRR: Grabbing data from \" MLQD/Jupyter_Notebooks/sb_data \" directory\n",
            "prep_input.KRR: Number of trajectories = 20\n",
            "prep_input.KRR: The input and target values are saved as (txt files), i.e., x_train and y_train ,respectively\n",
            "=================================================================\n",
            "Train_ml.KRR: Training KRR model with Gaussian kernel using MLatom in the backend ......\n",
            "Train_ml.KRR: KRR model will be created and saved as \"KRR_SB_model\"\n",
            "Train_ml.KRR: Checking to see whether the input data files x_train and y_train exists\n",
            "=================================================================\n",
            "Train_ml.KRR: The output of MLatom can be found as \"krr_train_output\" file (please check to ensure that MLatom execution was successful)\n",
            "Train_ml.KRR: Time taken = 2.0319392681121826 sec\n",
            "=================================================================\n",
            "=================================================================\n",
            "MLQD is ended at 2023-04-08 08:30:20.609933\n"
          ]
        },
        {
          "output_type": "execute_result",
          "data": {
            "text/plain": [
              "<mlqd.evolution.quant_dyn at 0x7fa017e88ca0>"
            ]
          },
          "metadata": {},
          "execution_count": 6
        }
      ],
      "source": [
        "param={ \n",
        "        'QDmodel': 'createQDmodel',     # str: create QD model. The dafault option is useQDmodel\n",
        "        'QDmodelType': 'KRR',           # str: The type of model. Here KRR and the default option is OSTL\n",
        "        'prepInput' : 'True',           # str: Prepare input files from the data (Default 'False')\n",
        "        'XfileIn': 'x_train',           # str: (Optional, txt file) The prepared X file will be saved at the provided file name \n",
        "        'YfileIn': 'y_train',           # str: (Optional, txt file) The prepared Y file will be saved at the provided file name\n",
        "        'dataPath': 'MLQD/Jupyter_Notebooks/sb_data' ,        # str: Data path\n",
        "        'dataCol': 1,                   # int: Default is 1, we may have multiple columns in our data files, mention a single column (KRR model works only for single output)\n",
        "        'dtype': 'real',                # str: Default is real. If the data in complex and if we pass 'real', it will prepare data only for real part and if we pass 'imag' is mentioned, only imaginary data will be considered. \n",
        "        'xlength': 81,                  # int:  Default is 81. Length of the short trajectory which will be used as an input\n",
        "        'hyperParam': 'False',          # str: Default is 'False', we can pass 'True' (optimize the hyperparameters) or 'False' (don't optimize and run with the default values)\n",
        "        'krrSigma': 4.0,                # float: If we pass 'False' to hyperParam, then we need to provide a value for hyperparameter Sigma in Gaussian kernel. Otherwise the model will run with the default value. \n",
        "        'krrLamb': 0.00000001,          # float: If we pass 'False' to hyperParam, then we need to provide a value for hyper parameter Lambda in KRR. Otherwise the model will run with the default value.\n",
        "        'systemType': 'SB',             # str: (Not optional) Need to define, wether your model is spin-boson (SB) or FMO complex (FMO) \n",
        "        'QDmodelOut': 'KRR_SB_model'    # str: (Optional), providing a name to save the model at\n",
        "        }\n",
        "quant_dyn(**param)"
      ]
    },
    {
      "cell_type": "markdown",
      "id": "75d0ce0f",
      "metadata": {
        "id": "75d0ce0f"
      },
      "source": [
        "### 3. Without preparation of training data and optimization of the KRR model. \n",
        "\n",
        "In this example, we will not prepare the training data and will directly pass the X and Y files as were prepared in demonstration 1 or 2 "
      ]
    },
    {
      "cell_type": "code",
      "execution_count": null,
      "id": "7deef6b9",
      "metadata": {
        "colab": {
          "base_uri": "https://localhost:8080/"
        },
        "id": "7deef6b9",
        "outputId": "3422a9a3-3bc3-49d8-858c-495dafa9d8c3"
      },
      "outputs": [
        {
          "output_type": "stream",
          "name": "stdout",
          "text": [
            "=================================================================\n",
            "MLQD is a python package developed for Machine Learning-based Quantum Dissipative Dynamics,\n",
            " \t\t\t\t  Version 1.0.0\n",
            "\t\t\t https://github.com/Arif-PhyChem/MLQD\n",
            "\n",
            " \t\t\t Copyright (c) 2022 Arif Ullah\n",
            "\n",
            "All rights reserved. This work is licensed under the Attribution-NonCommercial-NoDerivatives 4.0\n",
            " \t International http://creativecommons.org/licenses/by-nc-nd/4.0/) license.\n",
            "\t\t\t See LICENSE.CC-BY-NC-ND-4.0\n",
            "\n",
            "\n",
            "The above copyright notice and this permission notice shall be included \n",
            "in all copies or substantial portions of the Software.\n",
            "\n",
            "\n",
            "The software is provided \"as is\" without warranty of any kind, express or implied, \n",
            "including but not limited to the warranties ofmerchantability, fitness for a particular \n",
            "purpose and noninfringement. In no event shall the authors or copyright holders be \n",
            "liable for any claim, damages or other liability, whether in an action of contract, tort or otherwise, \n",
            "arising from, out of or in connection with the software or the use or other dealings in the software.\n",
            "\n",
            "\n",
            "\t\t\t\t Cite as:\n",
            "\n",
            "1) Ullah A. and Dral P. O., New Journal of Physics, 2021, 23(11), 113019\n",
            "2) Ullah A. and Dral P. O., Nature Communications, 2022, 13(1), 1930\n",
            "3) Ullah A. and Dral P. O., Journal of Physical Chemistry Letters, 2022, 13(26), 6037\n",
            "4) Rodriguez L. E. H.; Ullah A.; Espinosa K. J. R.; Dral P. O. and A. A. Kananenka, Machine Learning: Science and Technology, 2022, 3(4), 045016\n",
            "\n",
            "Contributers List:\n",
            "\n",
            "1) Arif Ullah (main) \n",
            "2) Pavlo O. Dral\n",
            "=================================================================\n",
            "MLQD is started at 2023-04-08 08:30:20.629377\n",
            "=================================================================\n",
            "Setting \"systemType\" to SB\n",
            "MLQD is running with the option QDmodel =  createQDmodel\n",
            "Setting ML Model Type \"QDmodelType\" to KRR\n",
            "Running with the default number of states (SB); n_states: 2\n",
            "You have chosen not to prepare the input files, othewise you should pass \"True\" to prepInput\n",
            "Model will be saved as KRR_SB_model\n",
            "Xfilein is x_train\n",
            "YfileIn is y_train\n",
            "You have chosen not to optimize the hyper parameters of the model, otherwise you should pass \"True\" to hyperParam\n",
            "=================================================================\n",
            "Setting length of x-input \"xlength\" to default value 81\n",
            "Setting hyperparameter Sigma for Guassian kernel \"krrSigma\" to  4.0\n",
            "Setting hyperparameter Lambda for KRR \"krrLamb\" to  1e-08\n",
            "=================================================================\n",
            "Setting data column \"dataCol\" to default value  1\n",
            "Setting data type \"dtype\" to default type  real\n",
            "=================================================================\n",
            "=================================================================\n",
            "Train_ml.KRR: Training KRR model with Gaussian kernel using MLatom in the backend ......\n",
            "Train_ml.KRR: KRR model will be created and saved as \"KRR_SB_model\"\n",
            "Train_ml.KRR: Checking to see whether the input data files x_train and y_train exists\n",
            "=================================================================\n",
            "Train_ml.KRR: The output of MLatom can be found as \"krr_train_output\" file (please check to ensure that MLatom execution was successful)\n",
            "Train_ml.KRR: Time taken = 1.9890823364257812 sec\n",
            "=================================================================\n",
            "=================================================================\n",
            "MLQD is ended at 2023-04-08 08:30:22.620249\n"
          ]
        },
        {
          "output_type": "execute_result",
          "data": {
            "text/plain": [
              "<mlqd.evolution.quant_dyn at 0x7fa017ea7730>"
            ]
          },
          "metadata": {},
          "execution_count": 7
        }
      ],
      "source": [
        "param={ \n",
        "        'QDmodel': 'createQDmodel',     # str: create QD model. The dafault option is useQDmodel\n",
        "        'QDmodelType': 'KRR',           # str: The type of model. Here KRR and the default option is OSTL\n",
        "        'prepInput' : 'False',             # str: Prepare input files from the data (Default 'False')\n",
        "        'XfileIn': 'x_train',           # str: (Optional, txt file) The prepared X file will be saved at the provided file name \n",
        "        'YfileIn': 'y_train',           # str: (Optional, txt file) The prepared Y file will be saved at the provided file name\n",
        "        'hyperParam': 'False',            # str: Default is 'False', we can pass 'True' (optimize the hyperparameters) or 'False' (don't optimize and run with the default values)\n",
        "        'krrSigma': 4.0,                # float: If we pass 'False' to hyperParam, then we need to provide a value for hyperparameter Sigma in Gaussian kernel. Otherwise the model will run with the default value. \n",
        "        'krrLamb': 0.00000001,          # float: If we pass 'False' to hyperParam, then we need to provide a value for hyper parameter Lambda in KRR. Otherwise the model will run with the default value.\n",
        "        'systemType': 'SB',             # str: (Not optional) Need to define, wether your model is spin-boson (SB) or FMO complex (FMO) \n",
        "        'QDmodelOut': 'KRR_SB_model'    # str: (Optional), providing a name to save the model at\n",
        "        }\n",
        "quant_dyn(**param)"
      ]
    },
    {
      "cell_type": "markdown",
      "id": "0cb2c324",
      "metadata": {
        "id": "0cb2c324"
      },
      "source": [
        "# Propagating dynamics with the trained KRR model "
      ]
    },
    {
      "cell_type": "markdown",
      "id": "5f7f159f",
      "metadata": {
        "id": "5f7f159f"
      },
      "source": [
        "Lets propagate dynamics with the above trained KRR model trained on site-1 population. We provide a test file ```site_1_pop.txt``` in ```MLQD/Jupyter_Notebooks/test_set/sb/``` having an unseen short time trajectory (of the same length as was adopted during the training). We feed this short-time dynamics to the trained KRR model and we hope that it will predict the long dynamics. The short-time trajectoy is passed as a txt file. ***MLQD is also able to plot the dynamics against the reference trajectory***."
      ]
    },
    {
      "cell_type": "code",
      "execution_count": null,
      "id": "5f88c30c",
      "metadata": {
        "colab": {
          "base_uri": "https://localhost:8080/"
        },
        "id": "5f88c30c",
        "outputId": "550deb9d-cb62-48b0-a43b-1db8304493ce"
      },
      "outputs": [
        {
          "output_type": "stream",
          "name": "stdout",
          "text": [
            "=================================================================\n",
            "MLQD is a python package developed for Machine Learning-based Quantum Dissipative Dynamics,\n",
            " \t\t\t\t  Version 1.0.0\n",
            "\t\t\t https://github.com/Arif-PhyChem/MLQD\n",
            "\n",
            " \t\t\t Copyright (c) 2022 Arif Ullah\n",
            "\n",
            "All rights reserved. This work is licensed under the Attribution-NonCommercial-NoDerivatives 4.0\n",
            " \t International http://creativecommons.org/licenses/by-nc-nd/4.0/) license.\n",
            "\t\t\t See LICENSE.CC-BY-NC-ND-4.0\n",
            "\n",
            "\n",
            "The above copyright notice and this permission notice shall be included \n",
            "in all copies or substantial portions of the Software.\n",
            "\n",
            "\n",
            "The software is provided \"as is\" without warranty of any kind, express or implied, \n",
            "including but not limited to the warranties ofmerchantability, fitness for a particular \n",
            "purpose and noninfringement. In no event shall the authors or copyright holders be \n",
            "liable for any claim, damages or other liability, whether in an action of contract, tort or otherwise, \n",
            "arising from, out of or in connection with the software or the use or other dealings in the software.\n",
            "\n",
            "\n",
            "\t\t\t\t Cite as:\n",
            "\n",
            "1) Ullah A. and Dral P. O., New Journal of Physics, 2021, 23(11), 113019\n",
            "2) Ullah A. and Dral P. O., Nature Communications, 2022, 13(1), 1930\n",
            "3) Ullah A. and Dral P. O., Journal of Physical Chemistry Letters, 2022, 13(26), 6037\n",
            "4) Rodriguez L. E. H.; Ullah A.; Espinosa K. J. R.; Dral P. O. and A. A. Kananenka, Machine Learning: Science and Technology, 2022, 3(4), 045016\n",
            "\n",
            "Contributers List:\n",
            "\n",
            "1) Arif Ullah (main) \n",
            "2) Pavlo O. Dral\n",
            "=================================================================\n",
            "MLQD is started at 2023-04-08 08:30:22.644842\n",
            "=================================================================\n",
            "Setting \"systemType\" to SB\n",
            "MLQD is running with the option QDmodel =  useQDmodel\n",
            "Setting ML Model Type \"QDmodelType\" to KRR\n",
            "Setting number of states \"n_states\" to 2\n",
            "Setting propagation time \"time\" to 20\n",
            "Setting time_step to 0.05\n",
            "Using the trained model \"KRR_SB_model\" for dynamics prediction\n",
            "Reading from the input file XfileIn \"MLQD/Jupyter_Notebooks/test_set/sb/state_1_pop.txt\" ..........\n",
            "=================================================================\n",
            "ml_dyn.KRR: Running dynamics with KRR model using MLatom in the backend ......\n",
            "ml_dyn.KRR: The output of MLatom will be saved as \"krr_dyn_output\"\n",
            "ml_dyn.KRR: Dynamics is saved in a file  \"KRR_trajectory\"\n",
            "ml_dyn.KRR: Time taken = 858.518846988678 sec\n",
            "=================================================================\n",
            "Using the following reference trajectory for plotting: MLQD/Jupyter_Notebooks/test_set/sb/2_epsilon-0.0_Delta-1.0_lambda-0.1_gamma-4.0_beta-1.0.npy\n",
            "For Plotting: MLQD is grabbing column # 1 as was passed through \"dataCol\"\n",
            "For Plotting: data type \"dtype\" is  real\n",
            "Dynamics is plotted and saved as \"krr_plot.png\". Dash Line with markers is the reference trajectory while the solid line is the predicted dynamics\n",
            "=================================================================\n",
            "MLQD is ended at 2023-04-08 08:44:41.511030\n"
          ]
        },
        {
          "output_type": "execute_result",
          "data": {
            "text/plain": [
              "<mlqd.evolution.quant_dyn at 0x7fa017e9a550>"
            ]
          },
          "metadata": {},
          "execution_count": 8
        }
      ],
      "source": [
        "param={ \n",
        "        'n_states': 2,                 # The number of states or sites\n",
        "        'time': 20,                      # float: Propagation time in picoseconds (ps) for FMO complex and in (a.u.) for spin-boson model\n",
        "        'time_step': 0.05,              # float: Time-step for time-propagation (you are restricted to the time-step used in the training data). Default for KRR is 0.05\n",
        "        'QDmodel': 'useQDmodel',        # str: In MLQD, the dafault option is useQDmodel tells the MLQD to propagate dynamics with an existing trained model\n",
        "        'QDmodelType': 'KRR',           # str: The type of model we wanna use (KRR, AIQD, or OSTL). Here KRR and the default option is OSTL\n",
        "        'XfileIn': 'MLQD/Jupyter_Notebooks/test_set/sb/state_1_pop.txt',           # str: Name of a txt file where a short time trajectory (equal to the length the input-model was trained on) is saved. The data should be row wise.\n",
        "        'systemType': 'SB',             # str: (Not optional) Need to define, wether your model is spin-boson (SB) or FMO complex (FMO) \n",
        "        'QDmodelIn': 'KRR_SB_model',    # str: (Not optional for useQDmodel), provide the name of the trained ML model\n",
        "        'QDtrajOut': 'KRR_trajectory',  # str: (Optional), File name where the trajectory should be saved\n",
        "        'dataCol': 1,                   # We provide it grab the corresponding column from the reference trajectory\n",
        "        'dtype': 'real',                # Grab the real of the column data\n",
        "        'xlim': 20,                     # Xaxis limit for plotting. Default is equal to propagation time\n",
        "        'pltNstates': 2,                # How many states to be plotted. Default option is to plot all\n",
        "        'refTraj':'MLQD/Jupyter_Notebooks/test_set/sb/2_epsilon-0.0_Delta-1.0_lambda-0.1_gamma-4.0_beta-1.0.npy' # Reference trajectory \n",
        " }\n",
        "quant_dyn(**param)"
      ]
    },
    {
      "cell_type": "code",
      "execution_count": null,
      "id": "51bd6707",
      "metadata": {
        "id": "51bd6707",
        "outputId": "e04a0ea8-a232-41c4-f251-e2a4592f2772",
        "colab": {
          "base_uri": "https://localhost:8080/",
          "height": 813
        }
      },
      "outputs": [
        {
          "output_type": "execute_result",
          "data": {
            "text/plain": [
              "Text(0.5, 1.0, 'Time evolution of the excited state \\n population in the spin-boson model')"
            ]
          },
          "metadata": {},
          "execution_count": 9
        },
        {
          "output_type": "display_data",
          "data": {
            "text/plain": [
              "<Figure size 1000x800 with 1 Axes>"
            ],
            "image/png": "[encoded data removed]"
          },
          "metadata": {}
        }
      ],
      "source": [
        "heom_dyn = np.load('MLQD/Jupyter_Notebooks/test_set/sb/2_epsilon-0.0_Delta-1.0_lambda-0.1_gamma-4.0_beta-1.0.npy')\n",
        "pred_dyn = np.load('KRR_trajectory.npy')\n",
        "t_1 = np.real(heom_dyn[:,0])\n",
        "t_2 = pred_dyn[:,0]\n",
        "pred_state_1_pop = pred_dyn[:,1]\n",
        "heom_state_1_pop = np.real(heom_dyn[:,1])\n",
        "\n",
        "plt.rcParams['font.size'] = '20'\n",
        "plt.figure(figsize=(10,8))\n",
        "plt.plot(t_2, pred_state_1_pop, )\n",
        "plt.plot(t_1, heom_state_1_pop, '-.')\n",
        "plt.xlabel(r'$t \\ \\Delta$')\n",
        "plt.ylabel(r'$\\rho_{11}$')\n",
        "plt.legend([\"Predicted (KRR)\", 'Reference (HEOM)'])\n",
        "plt.title('Time evolution of the excited state \\n population in the spin-boson model')"
      ]
    },
    {
      "cell_type": "markdown",
      "id": "8bf76c93",
      "metadata": {
        "id": "8bf76c93"
      },
      "source": [
        "We can see that by providing a shot-time dynamics of 4 (a.u), the KRR model was able to predict the beyond dynamics and suprisingly, it could also extrapolate beyond the training region as shown by the blue region at the end. "
      ]
    }
  ],
  "metadata": {
    "kernelspec": {
      "display_name": "Python 3",
      "language": "python",
      "name": "python3"
    },
    "language_info": {
      "codemirror_mode": {
        "name": "ipython",
        "version": 3
      },
      "file_extension": ".py",
      "mimetype": "text/x-python",
      "name": "python",
      "nbconvert_exporter": "python",
      "pygments_lexer": "ipython3",
      "version": "3.9.15"
    },
    "colab": {
      "provenance": []
    }
  },
  "nbformat": 4,
  "nbformat_minor": 5
}